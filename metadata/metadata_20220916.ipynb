{
 "cells": [
  {
   "cell_type": "code",
   "execution_count": 1,
   "metadata": {},
   "outputs": [],
   "source": [
    "import numpy as np\n",
    "import pandas as pd\n",
    "from itertools import product\n",
    "\n",
    "def well_generator(rows, col_start, col_end):\n",
    "    return [f'{r}{c:02}' for r,c in product(rows, np.r_[col_start:col_end+1])]"
   ]
  },
  {
   "cell_type": "code",
   "execution_count": 2,
   "metadata": {},
   "outputs": [],
   "source": [
    "wells = (well_generator(['A'],4,9) + \n",
    "         well_generator(['B','C','D','E','F','G'],1,9))"
   ]
  },
  {
   "cell_type": "code",
   "execution_count": 3,
   "metadata": {},
   "outputs": [],
   "source": [
    "receivers = (['No Notch']*3 + ['NGN-SNIPR']*3 +\n",
    "             (['None']*3 + ['No Notch']*3 + ['NGN-SNIPR']*3)*6)"
   ]
  },
  {
   "cell_type": "code",
   "execution_count": 4,
   "metadata": {},
   "outputs": [],
   "source": [
    "senders = (['None']*6 + \n",
    "           ['mESC']*9*3 +\n",
    "           ['ALFA-mESC']*9*3)"
   ]
  },
  {
   "cell_type": "code",
   "execution_count": 28,
   "metadata": {},
   "outputs": [],
   "source": [
    "ratios = (['None']*6 +\n",
    "          ['1:1']*9 +\n",
    "          ['2:1']*9 +\n",
    "          ['4:1']*9 +\n",
    "          ['1:1']*9 +\n",
    "          ['2:1']*9 +\n",
    "          ['4:1']*9)"
   ]
  },
  {
   "cell_type": "code",
   "execution_count": 29,
   "metadata": {},
   "outputs": [],
   "source": [
    "def calc_conditions(senders, receivers):\n",
    "    conditions = []\n",
    "    for sender, receiver, ratio in zip(senders, receivers, ratios):\n",
    "        if sender == \"None\":\n",
    "            condition = receiver\n",
    "        elif receiver == \"None\":\n",
    "            condition = sender\n",
    "        else:\n",
    "            condition = receiver + \" + \" + sender + \" \" + ratio\n",
    "        conditions.append(condition)\n",
    "    return conditions\n",
    "\n",
    "conditions = calc_conditions(senders, receivers)"
   ]
  },
  {
   "cell_type": "code",
   "execution_count": 24,
   "metadata": {},
   "outputs": [],
   "source": [
    "replicate = ([1,2,3]*20)"
   ]
  },
  {
   "cell_type": "code",
   "execution_count": 25,
   "metadata": {},
   "outputs": [
    {
     "name": "stdout",
     "output_type": "stream",
     "text": [
      "60\n",
      "60\n",
      "60\n",
      "60\n",
      "60\n",
      "60\n"
     ]
    }
   ],
   "source": [
    "for arr in [wells, receivers, senders, ratios, conditions, replicate]:\n",
    "    print(len(arr))"
   ]
  },
  {
   "cell_type": "code",
   "execution_count": 30,
   "metadata": {},
   "outputs": [],
   "source": [
    "meta = pd.DataFrame({'WellName': wells,\n",
    "                     'Sender': senders,\n",
    "                     'Receiver': receivers,\n",
    "                     'Ratio': ratios,\n",
    "                     'Condition': conditions,\n",
    "                     'Replicate': replicate})"
   ]
  },
  {
   "cell_type": "code",
   "execution_count": 31,
   "metadata": {},
   "outputs": [],
   "source": [
    "meta.to_csv('/Users/sarah/Documents/El-Samad Lab/SynCellMotif/flow/20220916_mesc_NGN2-SNIPR_fix_ratio/metadata.csv', index=False)"
   ]
  },
  {
   "cell_type": "code",
   "execution_count": null,
   "metadata": {},
   "outputs": [],
   "source": []
  }
 ],
 "metadata": {
  "kernelspec": {
   "display_name": "Python [conda env:flow]",
   "language": "python",
   "name": "conda-env-flow-py"
  },
  "language_info": {
   "codemirror_mode": {
    "name": "ipython",
    "version": 3
   },
   "file_extension": ".py",
   "mimetype": "text/x-python",
   "name": "python",
   "nbconvert_exporter": "python",
   "pygments_lexer": "ipython3",
   "version": "3.9.6"
  }
 },
 "nbformat": 4,
 "nbformat_minor": 5
}
