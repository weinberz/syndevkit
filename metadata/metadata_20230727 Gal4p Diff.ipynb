{
 "cells": [
  {
   "cell_type": "code",
   "execution_count": 1,
   "id": "5665abb8",
   "metadata": {},
   "outputs": [],
   "source": [
    "import numpy as np\n",
    "import pandas as pd\n",
    "from itertools import product\n",
    "\n",
    "def well_generator(rows, col_start, col_end):\n",
    "    return [f'{r}{c:02}' for r,c in product(rows, np.r_[col_start:col_end+1])]"
   ]
  },
  {
   "cell_type": "code",
   "execution_count": 2,
   "id": "5cdc05b5",
   "metadata": {},
   "outputs": [],
   "source": [
    "wells = (well_generator(['A','B','C','D','E','F','G','H'],1,12))"
   ]
  },
  {
   "cell_type": "code",
   "execution_count": 9,
   "id": "2986d79e",
   "metadata": {},
   "outputs": [],
   "source": [
    "cells = ((['mESC']*12*4 + ['iN']*12 + ['SS079']*12 + ['SS080']*12 + ['SS081']*12))"
   ]
  },
  {
   "cell_type": "code",
   "execution_count": 14,
   "id": "0cd46061-458f-485a-bf08-f34ee4ff8b31",
   "metadata": {},
   "outputs": [],
   "source": [
    "ab_set = (['ab1']*12 + ['ab2']*12 + ['ab3']*12 + ['ab4']*12)*2"
   ]
  },
  {
   "cell_type": "code",
   "execution_count": 4,
   "id": "9cad9e51-b511-4fc0-bfaf-f8f7a0e781d8",
   "metadata": {},
   "outputs": [],
   "source": [
    "media = (['2i']*6 + ['SFES']*6)*8"
   ]
  },
  {
   "cell_type": "code",
   "execution_count": 5,
   "id": "0ecbb1a3-9572-47d3-b251-49d39d88b593",
   "metadata": {},
   "outputs": [],
   "source": [
    "treatment = ((['Untransduced']*3 + ['Gal4-VP64']*3)*2*8)"
   ]
  },
  {
   "cell_type": "code",
   "execution_count": 7,
   "id": "7e6a5ecb",
   "metadata": {},
   "outputs": [],
   "source": [
    "replicate = ((['1', '2', '3']*4)*8)"
   ]
  },
  {
   "cell_type": "code",
   "execution_count": 10,
   "id": "b74bea6f",
   "metadata": {},
   "outputs": [
    {
     "name": "stdout",
     "output_type": "stream",
     "text": [
      "96\n",
      "96\n",
      "96\n",
      "96\n",
      "96\n"
     ]
    }
   ],
   "source": [
    "for arr in [wells, cells, media, treatment, replicate]:\n",
    "    print(len(arr))"
   ]
  },
  {
   "cell_type": "code",
   "execution_count": 15,
   "id": "f976df23",
   "metadata": {},
   "outputs": [],
   "source": [
    "meta = pd.DataFrame({'WellName': wells,\n",
    "                     'CellLine': cells,\n",
    "                     'Antibody': ab_set,\n",
    "                     'Media': media,\n",
    "                     'Treatment': treatment,\n",
    "                     'Replicate': replicate})"
   ]
  },
  {
   "cell_type": "code",
   "execution_count": 16,
   "id": "d002dd22",
   "metadata": {},
   "outputs": [],
   "source": [
    "meta.to_csv('/Users/weinberz/Library/CloudStorage/Box-Box/SynCellMotifs/Flow/20230725-TF construct fix/metadata.csv', index=False)"
   ]
  }
 ],
 "metadata": {
  "kernelspec": {
   "display_name": "Python [conda env:flow]",
   "language": "python",
   "name": "conda-env-flow-py"
  },
  "language_info": {
   "codemirror_mode": {
    "name": "ipython",
    "version": 3
   },
   "file_extension": ".py",
   "mimetype": "text/x-python",
   "name": "python",
   "nbconvert_exporter": "python",
   "pygments_lexer": "ipython3",
   "version": "3.9.18"
  }
 },
 "nbformat": 4,
 "nbformat_minor": 5
}
