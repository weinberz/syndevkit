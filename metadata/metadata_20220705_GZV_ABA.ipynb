{
 "cells": [
  {
   "cell_type": "code",
   "execution_count": 22,
   "metadata": {},
   "outputs": [],
   "source": [
    "import numpy as np\n",
    "import pandas as pd\n",
    "from itertools import product\n",
    "\n",
    "def well_generator(rows, col_start, col_end):\n",
    "    return [f'{r}{c:02}' for r,c in product(rows, np.r_[col_start:col_end+1])]"
   ]
  },
  {
   "cell_type": "code",
   "execution_count": 23,
   "metadata": {},
   "outputs": [],
   "source": [
    "wells = (well_generator(['A','B','C','D','E','F','G','H'],1,12))\n",
    "        "
   ]
  },
  {
   "cell_type": "code",
   "execution_count": 24,
   "metadata": {},
   "outputs": [],
   "source": [
    "# 407, SS058, SS057\n",
    "cells = ((['mESC']*3 + ['mESC + NS3']*3 + ['mESC']*3 + ['mESC + ABI/Pyl']*3)*8)"
   ]
  },
  {
   "cell_type": "code",
   "execution_count": 25,
   "metadata": {},
   "outputs": [],
   "source": [
    "drug = (['GZV']*6 +['ABA']*6)*8"
   ]
  },
  {
   "cell_type": "code",
   "execution_count": 26,
   "metadata": {},
   "outputs": [],
   "source": [
    "replicate = ((['1', '2', '3']*4)*8)"
   ]
  },
  {
   "cell_type": "code",
   "execution_count": 27,
   "metadata": {},
   "outputs": [],
   "source": [
    "dose = (['1µM']*6 + ['5µM']*6 + \n",
    "        ['500nM']*6 + ['2.5µM']*6 +\n",
    "        ['250nM']*6 + ['1.25µM']*6 + \n",
    "        ['125nM']*6 +  ['625nM']*6 + \n",
    "        ['62.5nM']*6 + ['312nM']*6 + \n",
    "        ['31.2nM']*6 + ['156nM']*6 + \n",
    "        ['15.6nM']*6 + ['78nM']*6 + \n",
    "        ['Untreated']*12)"
   ]
  },
  {
   "cell_type": "code",
   "execution_count": 28,
   "metadata": {},
   "outputs": [
    {
     "name": "stdout",
     "output_type": "stream",
     "text": [
      "96\n",
      "96\n",
      "96\n",
      "96\n",
      "96\n"
     ]
    }
   ],
   "source": [
    "for arr in [wells, cells, drug, dose, replicate]:\n",
    "    print(len(arr))"
   ]
  },
  {
   "cell_type": "code",
   "execution_count": 29,
   "metadata": {},
   "outputs": [],
   "source": [
    "meta = pd.DataFrame({'WellName': wells,\n",
    "                     'CellLine': cells,\n",
    "                     'Drug': drug,\n",
    "                     'Dose': dose,\n",
    "                     'Replicate': replicate})"
   ]
  },
  {
   "cell_type": "code",
   "execution_count": 30,
   "metadata": {},
   "outputs": [],
   "source": [
    "meta.to_csv('/Users/sarah/Documents/El-Samad Lab/SynCellMotif/flow/20220705_SynTF_SS58GZV_SS57ABA/metadata.csv', index=False)"
   ]
  },
  {
   "cell_type": "code",
   "execution_count": null,
   "metadata": {},
   "outputs": [],
   "source": []
  }
 ],
 "metadata": {
  "kernelspec": {
   "display_name": "Python [conda env:flow]",
   "language": "python",
   "name": "conda-env-flow-py"
  },
  "language_info": {
   "codemirror_mode": {
    "name": "ipython",
    "version": 3
   },
   "file_extension": ".py",
   "mimetype": "text/x-python",
   "name": "python",
   "nbconvert_exporter": "python",
   "pygments_lexer": "ipython3",
   "version": "3.9.6"
  }
 },
 "nbformat": 4,
 "nbformat_minor": 5
}
