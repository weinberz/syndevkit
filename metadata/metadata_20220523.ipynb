{
 "cells": [
  {
   "cell_type": "code",
   "execution_count": 1,
   "metadata": {},
   "outputs": [],
   "source": [
    "import numpy as np\n",
    "import pandas as pd\n",
    "from itertools import product\n",
    "\n",
    "def well_generator(rows, col_start, col_end):\n",
    "    return [f'{r}{c:02}' for r,c in product(rows, np.r_[col_start:col_end+1])]"
   ]
  },
  {
   "cell_type": "code",
   "execution_count": 2,
   "metadata": {},
   "outputs": [],
   "source": [
    "wells = (well_generator(['A'],4,12) + \n",
    "         well_generator(['B','C'],1,12))"
   ]
  },
  {
   "cell_type": "code",
   "execution_count": 3,
   "metadata": {},
   "outputs": [],
   "source": [
    "receivers = (['No Notch']*3 + ['ALFA-Notch']*3 + ['ALFA-SNIPR']*3 +\n",
    "             (['None']*3 + ['No Notch']*3 + ['ALFA-Notch']*3 + ['ALFA-SNIPR']*3)*2)"
   ]
  },
  {
   "cell_type": "code",
   "execution_count": 4,
   "metadata": {},
   "outputs": [],
   "source": [
    "senders = (['None']*9 +\n",
    "           ['mESC']*12 +\n",
    "           ['ALFA-mESC']*12)"
   ]
  },
  {
   "cell_type": "code",
   "execution_count": 5,
   "metadata": {},
   "outputs": [],
   "source": [
    "replicate = (['1', '2', '3']*11)"
   ]
  },
  {
   "cell_type": "code",
   "execution_count": 6,
   "metadata": {},
   "outputs": [
    {
     "name": "stdout",
     "output_type": "stream",
     "text": [
      "33\n",
      "33\n",
      "33\n",
      "33\n"
     ]
    }
   ],
   "source": [
    "for arr in [wells, receivers, senders, replicate]:\n",
    "    print(len(arr))"
   ]
  },
  {
   "cell_type": "code",
   "execution_count": 7,
   "metadata": {},
   "outputs": [],
   "source": [
    "meta = pd.DataFrame({'WellName': wells,\n",
    "                     'Reciver': receivers,\n",
    "                     'Sender': senders,\n",
    "                     'Replicate': replicate})"
   ]
  },
  {
   "cell_type": "code",
   "execution_count": 8,
   "metadata": {},
   "outputs": [],
   "source": [
    "meta.to_csv('/Users/sarah/Documents/El-Samad Lab/SynCellMotif/flow/20220523_mesc_SynNotch_ss39_ss35_ss37/metadata.csv', index=False)"
   ]
  },
  {
   "cell_type": "code",
   "execution_count": null,
   "metadata": {},
   "outputs": [],
   "source": []
  }
 ],
 "metadata": {
  "kernelspec": {
   "display_name": "Python [conda env:flow]",
   "language": "python",
   "name": "conda-env-flow-py"
  },
  "language_info": {
   "codemirror_mode": {
    "name": "ipython",
    "version": 3
   },
   "file_extension": ".py",
   "mimetype": "text/x-python",
   "name": "python",
   "nbconvert_exporter": "python",
   "pygments_lexer": "ipython3",
   "version": "3.9.6"
  }
 },
 "nbformat": 4,
 "nbformat_minor": 5
}
